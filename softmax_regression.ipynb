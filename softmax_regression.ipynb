{
  "nbformat": 4,
  "nbformat_minor": 0,
  "metadata": {
    "colab": {
      "name": "softmax_regression.ipynb",
      "provenance": [],
      "authorship_tag": "ABX9TyPeOmhBrUjSKlW1LRVDbMdO",
      "include_colab_link": true
    },
    "kernelspec": {
      "name": "python3",
      "display_name": "Python 3"
    }
  },
  "cells": [
    {
      "cell_type": "markdown",
      "metadata": {
        "id": "view-in-github",
        "colab_type": "text"
      },
      "source": [
        "<a href=\"https://colab.research.google.com/github/Naushad9458/CS224N/blob/main/softmax_regression.ipynb\" target=\"_parent\"><img src=\"https://colab.research.google.com/assets/colab-badge.svg\" alt=\"Open In Colab\"/></a>"
      ]
    },
    {
      "cell_type": "code",
      "metadata": {
        "id": "BHdi6P-kha3B"
      },
      "source": [
        "import numpy as np"
      ],
      "execution_count": 2,
      "outputs": []
    },
    {
      "cell_type": "code",
      "metadata": {
        "id": "FR8ehZ6zhskO"
      },
      "source": [
        "y=np.array([0,1,2,2])"
      ],
      "execution_count": 3,
      "outputs": []
    },
    {
      "cell_type": "code",
      "metadata": {
        "id": "BkcdujIHh5mS",
        "outputId": "6e074e78-71e5-4520-ef72-b75d4f63e4c3",
        "colab": {
          "base_uri": "https://localhost:8080/"
        }
      },
      "source": [
        "y # 4 samples and 3 classes"
      ],
      "execution_count": 5,
      "outputs": [
        {
          "output_type": "execute_result",
          "data": {
            "text/plain": [
              "array([0, 1, 2, 2])"
            ]
          },
          "metadata": {
            "tags": []
          },
          "execution_count": 5
        }
      ]
    },
    {
      "cell_type": "code",
      "metadata": {
        "id": "5vPTyPNLh9uq",
        "outputId": "5a780f9d-01a4-4dfb-c506-1875d12b1fc8",
        "colab": {
          "base_uri": "https://localhost:8080/"
        }
      },
      "source": [
        "#one-hot encoding to samples\n",
        "y_enc = (np.arange(np.max(y) + 1) == y[:, None]).astype(float)\n",
        "\n",
        "print('one-hot encoding:\\n', y_enc)"
      ],
      "execution_count": 6,
      "outputs": [
        {
          "output_type": "stream",
          "text": [
            "one-hot encoding:\n",
            " [[1. 0. 0.]\n",
            " [0. 1. 0.]\n",
            " [0. 0. 1.]\n",
            " [0. 0. 1.]]\n"
          ],
          "name": "stdout"
        }
      ]
    },
    {
      "cell_type": "code",
      "metadata": {
        "id": "xd8w1DaWimiB",
        "outputId": "dd601fa2-0a73-4a9c-d40b-a4ebb27869df",
        "colab": {
          "base_uri": "https://localhost:8080/"
        }
      },
      "source": [
        "X = np.array([[0.1, 0.5],\n",
        "              [1.1, 2.3],\n",
        "              [-1.1, -2.3],\n",
        "              [-1.5, -2.5]])\n",
        "\n",
        "W = np.array([[0.1, 0.2, 0.3],\n",
        "              [0.1, 0.2, 0.3]])\n",
        "\n",
        "bias = np.array([0.01, 0.1, 0.1])\n",
        "\n",
        "print('Inputs X:\\n', X)\n",
        "print('\\nWeights W:\\n', W)\n",
        "print('\\nbias:\\n', bias)"
      ],
      "execution_count": 7,
      "outputs": [
        {
          "output_type": "stream",
          "text": [
            "Inputs X:\n",
            " [[ 0.1  0.5]\n",
            " [ 1.1  2.3]\n",
            " [-1.1 -2.3]\n",
            " [-1.5 -2.5]]\n",
            "\n",
            "Weights W:\n",
            " [[0.1 0.2 0.3]\n",
            " [0.1 0.2 0.3]]\n",
            "\n",
            "bias:\n",
            " [0.01 0.1  0.1 ]\n"
          ],
          "name": "stdout"
        }
      ]
    },
    {
      "cell_type": "code",
      "metadata": {
        "id": "k8_isrGQmGqG"
      },
      "source": [
        "def net_input(X, W, b):\n",
        "    return (X.dot(W) + b)"
      ],
      "execution_count": 8,
      "outputs": []
    },
    {
      "cell_type": "code",
      "metadata": {
        "id": "ALHLateTmSWz",
        "outputId": "50b969f6-ac37-4961-9e33-7120a204406c",
        "colab": {
          "base_uri": "https://localhost:8080/"
        }
      },
      "source": [
        "net_in = net_input(X, W, bias)\n",
        "print('net input:\\n', net_in)"
      ],
      "execution_count": 9,
      "outputs": [
        {
          "output_type": "stream",
          "text": [
            "net input:\n",
            " [[ 0.07  0.22  0.28]\n",
            " [ 0.35  0.78  1.12]\n",
            " [-0.33 -0.58 -0.92]\n",
            " [-0.39 -0.7  -1.1 ]]\n"
          ],
          "name": "stdout"
        }
      ]
    },
    {
      "cell_type": "code",
      "metadata": {
        "id": "dQGgIe0rmtAX",
        "outputId": "96140ad6-81b9-4e65-c29d-f0139855ca34",
        "colab": {
          "base_uri": "https://localhost:8080/"
        }
      },
      "source": [
        "np.exp(net_in.T)"
      ],
      "execution_count": 12,
      "outputs": [
        {
          "output_type": "execute_result",
          "data": {
            "text/plain": [
              "array([[1.07250818, 1.41906755, 0.71892373, 0.67705687],\n",
              "       [1.24607673, 2.18147227, 0.55989837, 0.4965853 ],\n",
              "       [1.32312981, 3.0648542 , 0.39851904, 0.33287108]])"
            ]
          },
          "metadata": {
            "tags": []
          },
          "execution_count": 12
        }
      ]
    },
    {
      "cell_type": "code",
      "metadata": {
        "id": "ra3LlSS6m366",
        "outputId": "724730b8-5c14-4aaf-f013-ca8014dc9eb4",
        "colab": {
          "base_uri": "https://localhost:8080/"
        }
      },
      "source": [
        "np.sum(np.exp(net_in), axis=1)"
      ],
      "execution_count": 13,
      "outputs": [
        {
          "output_type": "execute_result",
          "data": {
            "text/plain": [
              "array([3.64171472, 6.66539402, 1.67734114, 1.50651326])"
            ]
          },
          "metadata": {
            "tags": []
          },
          "execution_count": 13
        }
      ]
    },
    {
      "cell_type": "code",
      "metadata": {
        "id": "k7kQQqW6nNPP",
        "outputId": "5cce43f1-0dcf-4210-a2e6-d3ef20bd2403",
        "colab": {
          "base_uri": "https://localhost:8080/"
        }
      },
      "source": [
        "np.exp(net_in.T)/np.sum(np.exp(net_in), axis=1)"
      ],
      "execution_count": 14,
      "outputs": [
        {
          "output_type": "execute_result",
          "data": {
            "text/plain": [
              "array([[0.29450637, 0.21290077, 0.42860913, 0.44941979],\n",
              "       [0.34216758, 0.32728332, 0.33380113, 0.32962558],\n",
              "       [0.36332605, 0.45981591, 0.23758974, 0.22095463]])"
            ]
          },
          "metadata": {
            "tags": []
          },
          "execution_count": 14
        }
      ]
    },
    {
      "cell_type": "code",
      "metadata": {
        "id": "XYWAEiADmVh_"
      },
      "source": [
        "def softmax(z):\n",
        "    return (np.exp(z.T) / np.sum(np.exp(z), axis=1)).T"
      ],
      "execution_count": 15,
      "outputs": []
    },
    {
      "cell_type": "code",
      "metadata": {
        "id": "hhIpBTCqmgUP",
        "outputId": "d9abda4e-a560-47bb-816d-33ffdd430ce3",
        "colab": {
          "base_uri": "https://localhost:8080/"
        }
      },
      "source": [
        "smax = softmax(net_in)\n",
        "print('softmax:\\n', smax)"
      ],
      "execution_count": 16,
      "outputs": [
        {
          "output_type": "stream",
          "text": [
            "softmax:\n",
            " [[0.29450637 0.34216758 0.36332605]\n",
            " [0.21290077 0.32728332 0.45981591]\n",
            " [0.42860913 0.33380113 0.23758974]\n",
            " [0.44941979 0.32962558 0.22095463]]\n"
          ],
          "name": "stdout"
        }
      ]
    },
    {
      "cell_type": "code",
      "metadata": {
        "id": "MA9BkvmdmjnN",
        "outputId": "b903caf7-4574-4cd4-c8fc-2ded02aa3d25",
        "colab": {
          "base_uri": "https://localhost:8080/"
        }
      },
      "source": [
        "def to_classlabel(z):\n",
        "    return z.argmax(axis=1)\n",
        "\n",
        "print('predicted class labels: ', to_classlabel(smax))"
      ],
      "execution_count": 17,
      "outputs": [
        {
          "output_type": "stream",
          "text": [
            "predicted class labels:  [2 2 0 0]\n"
          ],
          "name": "stdout"
        }
      ]
    },
    {
      "cell_type": "code",
      "metadata": {
        "id": "rxBuJmM9n-Js"
      },
      "source": [
        "def cross_entropy(output, y_target):\n",
        "    return - np.sum(np.log(output) * (y_target), axis=1)"
      ],
      "execution_count": 18,
      "outputs": []
    },
    {
      "cell_type": "code",
      "metadata": {
        "id": "7ATin5Z4oiFr",
        "outputId": "851d88ce-92f5-42fb-f396-6bd04535c382",
        "colab": {
          "base_uri": "https://localhost:8080/"
        }
      },
      "source": [
        "xent = cross_entropy(smax, y_enc)\n",
        "print('Cross Entropy:', xent)"
      ],
      "execution_count": 19,
      "outputs": [
        {
          "output_type": "stream",
          "text": [
            "Cross Entropy: [1.22245465 1.11692907 1.43720989 1.50979788]\n"
          ],
          "name": "stdout"
        }
      ]
    },
    {
      "cell_type": "code",
      "metadata": {
        "id": "LTkpHIy0onhe",
        "outputId": "f6620a37-6b60-4918-ab70-cbd37288805f",
        "colab": {
          "base_uri": "https://localhost:8080/"
        }
      },
      "source": [
        "def cost(output, y_target):\n",
        "    return np.mean(cross_entropy(output, y_target))\n",
        "\n",
        "J_cost = cost(smax, y_enc)\n",
        "print('Cost: ', J_cost)"
      ],
      "execution_count": 20,
      "outputs": [
        {
          "output_type": "stream",
          "text": [
            "Cost:  1.3215978715930938\n"
          ],
          "name": "stdout"
        }
      ]
    },
    {
      "cell_type": "code",
      "metadata": {
        "id": "7OGgKnghoyKZ",
        "outputId": "75c5a9c5-2d98-4818-99fe-5fdd7d42b616",
        "colab": {
          "base_uri": "https://localhost:8080/"
        }
      },
      "source": [
        "!pip install mlxtend"
      ],
      "execution_count": 21,
      "outputs": [
        {
          "output_type": "stream",
          "text": [
            "Requirement already satisfied: mlxtend in /usr/local/lib/python3.6/dist-packages (0.14.0)\n",
            "Requirement already satisfied: numpy>=1.10.4 in /usr/local/lib/python3.6/dist-packages (from mlxtend) (1.18.5)\n",
            "Requirement already satisfied: pandas>=0.17.1 in /usr/local/lib/python3.6/dist-packages (from mlxtend) (1.1.4)\n",
            "Requirement already satisfied: scikit-learn>=0.18 in /usr/local/lib/python3.6/dist-packages (from mlxtend) (0.22.2.post1)\n",
            "Requirement already satisfied: matplotlib>=1.5.1 in /usr/local/lib/python3.6/dist-packages (from mlxtend) (3.2.2)\n",
            "Requirement already satisfied: setuptools in /usr/local/lib/python3.6/dist-packages (from mlxtend) (50.3.2)\n",
            "Requirement already satisfied: scipy>=0.17 in /usr/local/lib/python3.6/dist-packages (from mlxtend) (1.4.1)\n",
            "Requirement already satisfied: pytz>=2017.2 in /usr/local/lib/python3.6/dist-packages (from pandas>=0.17.1->mlxtend) (2018.9)\n",
            "Requirement already satisfied: python-dateutil>=2.7.3 in /usr/local/lib/python3.6/dist-packages (from pandas>=0.17.1->mlxtend) (2.8.1)\n",
            "Requirement already satisfied: joblib>=0.11 in /usr/local/lib/python3.6/dist-packages (from scikit-learn>=0.18->mlxtend) (0.17.0)\n",
            "Requirement already satisfied: pyparsing!=2.0.4,!=2.1.2,!=2.1.6,>=2.0.1 in /usr/local/lib/python3.6/dist-packages (from matplotlib>=1.5.1->mlxtend) (2.4.7)\n",
            "Requirement already satisfied: cycler>=0.10 in /usr/local/lib/python3.6/dist-packages (from matplotlib>=1.5.1->mlxtend) (0.10.0)\n",
            "Requirement already satisfied: kiwisolver>=1.0.1 in /usr/local/lib/python3.6/dist-packages (from matplotlib>=1.5.1->mlxtend) (1.3.1)\n",
            "Requirement already satisfied: six>=1.5 in /usr/local/lib/python3.6/dist-packages (from python-dateutil>=2.7.3->pandas>=0.17.1->mlxtend) (1.15.0)\n"
          ],
          "name": "stdout"
        }
      ]
    },
    {
      "cell_type": "code",
      "metadata": {
        "id": "BbJI-vbnpCfv",
        "outputId": "6d1344c4-692d-438c-8975-91f62036e3d1",
        "colab": {
          "base_uri": "https://localhost:8080/"
        }
      },
      "source": [
        "from mlxtend.data import iris_data\n",
        "from mlxtend.plotting import plot_decision_regions\n",
        "from mlxtend.classifier import SoftmaxRegression\n",
        "import matplotlib.pyplot as plt"
      ],
      "execution_count": 22,
      "outputs": [
        {
          "output_type": "stream",
          "text": [
            "/usr/local/lib/python3.6/dist-packages/sklearn/externals/six.py:31: FutureWarning: The module is deprecated in version 0.21 and will be removed in version 0.23 since we've dropped support for Python 2.7. Please rely on the official version of six (https://pypi.org/project/six/).\n",
            "  \"(https://pypi.org/project/six/).\", FutureWarning)\n"
          ],
          "name": "stderr"
        }
      ]
    },
    {
      "cell_type": "code",
      "metadata": {
        "id": "sB-aQaiCpG0b"
      },
      "source": [
        ""
      ],
      "execution_count": null,
      "outputs": []
    }
  ]
}